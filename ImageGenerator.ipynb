{
 "cells": [
  {
   "cell_type": "code",
   "id": "initial_id",
   "metadata": {
    "collapsed": true,
    "ExecuteTime": {
     "end_time": "2024-10-30T10:33:14.931062Z",
     "start_time": "2024-10-30T10:32:57.790788Z"
    }
   },
   "source": [
    "import base64\n",
    "from io import BytesIO\n",
    "from PIL import Image\n",
    "import requests\n",
    "\n",
    "def display_image_from_fastapi():\n",
    "    url = \"http://127.0.0.1:8000/generate_image\"\n",
    "    prompt = input(\"Your prompt\")\n",
    "    \n",
    "    # JSON payload\n",
    "    data = {\"prompt\": prompt}\n",
    "    \n",
    "    response = requests.post(url, json=data)\n",
    "    \n",
    "    if response.status_code == 200:\n",
    "        print(\"FastAPI server is working.\")\n",
    "        response_data = response.json()\n",
    "        \n",
    "        # Decode the base64 image data\n",
    "        image_data = response_data.get(\"image\")\n",
    "        if image_data:\n",
    "            image_bytes = base64.b64decode(image_data)\n",
    "            image = Image.open(BytesIO(image_bytes))\n",
    "            \n",
    "            # Display the image\n",
    "            image.show()\n",
    "        else:\n",
    "            print(\"Error: No image data received.\")\n",
    "    else:\n",
    "        print(\"Error:\", response.status_code, response.text)\n",
    "\n",
    "# Run the function\n",
    "display_image_from_fastapi()\n"
   ],
   "outputs": [
    {
     "name": "stdout",
     "output_type": "stream",
     "text": [
      "FastAPI server is working.\n"
     ]
    }
   ],
   "execution_count": 2
  },
  {
   "metadata": {},
   "cell_type": "code",
   "outputs": [],
   "execution_count": null,
   "source": "",
   "id": "bf1e52b2942ea385"
  }
 ],
 "metadata": {
  "kernelspec": {
   "display_name": "Python 3",
   "language": "python",
   "name": "python3"
  },
  "language_info": {
   "codemirror_mode": {
    "name": "ipython",
    "version": 2
   },
   "file_extension": ".py",
   "mimetype": "text/x-python",
   "name": "python",
   "nbconvert_exporter": "python",
   "pygments_lexer": "ipython2",
   "version": "2.7.6"
  }
 },
 "nbformat": 4,
 "nbformat_minor": 5
}
